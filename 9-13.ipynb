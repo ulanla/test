{
 "cells": [
  {
   "cell_type": "markdown",
   "metadata": {},
   "source": [
    "# 循环\n",
    "- 循环是一种控制语句块重复执行的结构\n",
    "- while  适用于广度遍历\n",
    "- for    开发中经常使用"
   ]
  },
  {
   "cell_type": "markdown",
   "metadata": {},
   "source": [
    "## while 循环\n",
    "- 当一个条件保持真的时候while循环重复执行语句\n",
    "- while 循环一定要有结束条件，否则很容易进入死循环\n",
    "- while 循环的语法是：\n",
    "\n",
    "    while loop-contunuation-conndition:\n",
    "\n",
    "        Statement"
   ]
  },
  {
   "cell_type": "markdown",
   "metadata": {},
   "source": [
    "## 示例：\n",
    "sum = 0\n",
    "\n",
    "i = 1\n",
    "\n",
    "while i <10:\n",
    "\n",
    "    sum = sum + i\n",
    "    i = i + 1"
   ]
  },
  {
   "cell_type": "markdown",
   "metadata": {},
   "source": [
    "## 错误示例：\n",
    "sum = 0\n",
    "\n",
    "i = 1\n",
    "\n",
    "while i <10:\n",
    "\n",
    "    sum = sum + i\n",
    "\n",
    "i = i + 1\n",
    "- 一旦进入死循环可按 Ctrl + c 停止"
   ]
  },
  {
   "cell_type": "markdown",
   "metadata": {},
   "source": [
    "## EP：\n",
    "![](../Photo/143.png)\n",
    "![](../Photo/144.png)"
   ]
  },
  {
   "cell_type": "markdown",
   "metadata": {},
   "source": [
    "# 验证码\n",
    "- 随机产生四个字母的验证码，如果正确，输出验证码正确。如果错误，产生新的验证码，用户重新输入。\n",
    "- 验证码只能输入三次，如果三次都错，返回“别爬了，我们小网站没什么好爬的”\n",
    "- 密码登录，如果三次错误，账号被锁定\n"
   ]
  },
  {
   "cell_type": "code",
   "execution_count": null,
   "metadata": {},
   "outputs": [
    {
     "name": "stdout",
     "output_type": "stream",
     "text": [
      "1 1 1 0\n"
     ]
    }
   ],
   "source": [
    "import random\n",
    "num_1 = ['a','z']\n",
    "num_2 = ['a','z']\n",
    "num_3 = ['a','z']\n",
    "num_4 = ['a','z']\n",
    "A = random.randint(0,len(num_1)-1)\n",
    "B = random.randint(0,len(num_2)-1)\n",
    "C = random.randint(0,len(num_3)-1)\n",
    "D = random.randint(0,len(num_3)-1)\n",
    "i = 0\n",
    "print (A,B,C,D)\n",
    "while i<3:\n",
    "    a,b,c,d = eval(input('请输入验证码'))\n",
    "    if a == num_1 and b == num_2 and c == num_3 and d == num_4:\n",
    "        print ('验证码正确')\n",
    "        break\n",
    "    else:\n",
    "        print('请再次输入',A,B,C,D)\n",
    "        "
   ]
  },
  {
   "cell_type": "code",
   "execution_count": 2,
   "metadata": {},
   "outputs": [
    {
     "name": "stdout",
     "output_type": "stream",
     "text": [
      "验证码是: 6572\n",
      ">>6256\n",
      "请再次输入\n",
      ">>5984\n",
      "请再次输入\n",
      ">>3625\n",
      "请再次输入\n",
      ">>153\n",
      "请再次输入\n",
      ">>6572\n",
      "验证码正确\n"
     ]
    }
   ],
   "source": [
    "import random\n",
    "yanzhengma = str(random.randint(1000,9999))\n",
    "i = 0\n",
    "print ('验证码是:',yanzhengma)\n",
    "while 1<3:\n",
    "    input_ = input('>>')\n",
    "    if yanzhengma == input_:\n",
    "        print('验证码正确')\n",
    "        break\n",
    "    else:\n",
    "        print('请再次输入')\n",
    "        i +=1"
   ]
  },
  {
   "cell_type": "code",
   "execution_count": 1,
   "metadata": {},
   "outputs": [
    {
     "name": "stdout",
     "output_type": "stream",
     "text": [
      "验证码是: glzr\n",
      ">>glzr\n",
      "验证码正确\n"
     ]
    }
   ],
   "source": [
    "import random\n",
    "i = 0\n",
    "while i <3 :\n",
    "    yanzhengma1 = chr(random.randint(97,122))\n",
    "    yanzhengma2 = chr(random.randint(97,122))\n",
    "    yanzhengma3 = chr(random.randint(97,122))\n",
    "    yanzhengma4 = chr(random.randint(97,122))\n",
    "    yanzhengma = yanzhengma1 + yanzhengma2+ yanzhengma3 + yanzhengma4\n",
    "    \n",
    "    print('验证码是:',yanzhengma)\n",
    "    input_ = input('>>')\n",
    "    if yanzhengma == input_:\n",
    "        print('验证码正确')\n",
    "        break\n",
    "    else:\n",
    "        print('请再输入')\n",
    "        i +=1\n",
    "#     if i ==3:\n",
    "#         print('验证码次数超限')\n",
    "else:\n",
    "    print('验证码次数超限')"
   ]
  },
  {
   "cell_type": "code",
   "execution_count": 2,
   "metadata": {},
   "outputs": [
    {
     "name": "stdout",
     "output_type": "stream",
     "text": [
      "验证码是: dpn0\n",
      ">>dpng\n",
      "请再输入\n",
      "验证码是: gake\n",
      ">>kdhf\n",
      "请再输入\n",
      "验证码是: 46nk\n",
      ">>felc\n",
      "请再输入\n",
      "验证码次数超限\n"
     ]
    }
   ],
   "source": [
    "import random\n",
    "i = 0\n",
    "while i <3 :\n",
    "    list_ = ['1','2','3','4','5','6','7','8','9','0','q','w','e','r','t','y','u','i','o','p','a','s','d','f','g','h','j','k','l','z','x','c','v','n','m']\n",
    "    random.shuffle(list_)\n",
    "    yanzhengma = ''.join(list_[0:4])\n",
    "    print('验证码是:',yanzhengma)\n",
    "    input_ = input('>>')\n",
    "    \n",
    "    if yanzhengma == input_:\n",
    "        print('验证码正确')\n",
    "        break\n",
    "    else:\n",
    "        print('请再输入')\n",
    "        i +=1\n",
    "#     if i ==3:\n",
    "#         print('验证码次数超限')\n",
    "else:\n",
    "    print('验证码次数超限')"
   ]
  },
  {
   "cell_type": "markdown",
   "metadata": {},
   "source": [
    "## 尝试死循环"
   ]
  },
  {
   "cell_type": "markdown",
   "metadata": {},
   "source": [
    "## 实例研究：猜数字\n",
    "- 你将要编写一个能够随机生成一个0到10之间的且包括两者的数字程序，这个程序\n",
    "- 提示用户连续地输入数字直到正确，且提示用户输入的数字是过高还是过低"
   ]
  },
  {
   "cell_type": "markdown",
   "metadata": {},
   "source": [
    "## 使用哨兵值来控制循环\n",
    "- 哨兵值来表明输入的结束\n",
    "- ![](../Photo/54.png)"
   ]
  },
  {
   "cell_type": "markdown",
   "metadata": {},
   "source": [
    "## 警告\n",
    "![](../Photo/55.png)"
   ]
  },
  {
   "cell_type": "markdown",
   "metadata": {},
   "source": [
    "## for 循环\n",
    "- Python的for 循环通过一个序列中的每个值来进行迭代\n",
    "- range(a,b,k)， a，b，k 必须为整数\n",
    "- a: start\n",
    "- b: end\n",
    "- k: step\n",
    "- 注意for 是循环一切可迭代对象，而不是只能使用range"
   ]
  },
  {
   "cell_type": "markdown",
   "metadata": {},
   "source": [
    "# 在Python里面一切皆对象"
   ]
  },
  {
   "cell_type": "markdown",
   "metadata": {},
   "source": [
    "## EP:\n",
    "- ![](../Photo/145.png)"
   ]
  },
  {
   "cell_type": "code",
   "execution_count": 3,
   "metadata": {},
   "outputs": [
    {
     "name": "stdout",
     "output_type": "stream",
     "text": [
      "a\n",
      "b\n",
      "c\n",
      "d\n",
      "e\n",
      "f\n",
      "g\n"
     ]
    }
   ],
   "source": [
    "for i in ('abcdefg'):\n",
    "    print (i)"
   ]
  },
  {
   "cell_type": "code",
   "execution_count": 23,
   "metadata": {},
   "outputs": [
    {
     "name": "stdout",
     "output_type": "stream",
     "text": [
      "a\n",
      "b\n",
      "c\n",
      "d\n",
      "e\n",
      "f\n",
      "g\n"
     ]
    }
   ],
   "source": [
    "i = 0\n",
    "str_ = 'abcdefg'\n",
    "while i <7:\n",
    "    print (str_[i])\n",
    "    i +=1"
   ]
  },
  {
   "cell_type": "markdown",
   "metadata": {},
   "source": [
    "## 嵌套循环\n",
    "- 一个循环可以嵌套另一个循环\n",
    "- 每次循环外层时，内层循环都会被刷新重新完成循环\n",
    "- 也就是说，大循环执行一次，小循环会全部执行一次\n",
    "- 注意：\n",
    "> - 多层循环非常耗时\n",
    "  - 最多使用3层循环"
   ]
  },
  {
   "cell_type": "code",
   "execution_count": 9,
   "metadata": {},
   "outputs": [
    {
     "name": "stdout",
     "output_type": "stream",
     "text": [
      "0 0\n",
      "0 1\n",
      "0 2\n",
      "0 3\n",
      "0 4\n",
      "0 5\n",
      "0 6\n",
      "0 7\n",
      "0 8\n",
      "0 9\n",
      "1 0\n",
      "1 1\n",
      "1 2\n",
      "1 3\n",
      "1 4\n",
      "1 5\n",
      "1 6\n",
      "1 7\n",
      "1 8\n",
      "1 9\n",
      "2 0\n",
      "2 1\n",
      "2 2\n",
      "2 3\n",
      "2 4\n",
      "2 5\n",
      "2 6\n",
      "2 7\n",
      "2 8\n",
      "2 9\n",
      "3 0\n",
      "3 1\n",
      "3 2\n",
      "3 3\n",
      "3 4\n",
      "3 5\n",
      "3 6\n",
      "3 7\n",
      "3 8\n",
      "3 9\n",
      "4 0\n",
      "4 1\n",
      "4 2\n",
      "4 3\n",
      "4 4\n",
      "4 5\n",
      "4 6\n",
      "4 7\n",
      "4 8\n",
      "4 9\n",
      "5 0\n",
      "5 1\n",
      "5 2\n",
      "5 3\n",
      "5 4\n",
      "5 5\n",
      "5 6\n",
      "5 7\n",
      "5 8\n",
      "5 9\n",
      "6 0\n",
      "6 1\n",
      "6 2\n",
      "6 3\n",
      "6 4\n",
      "6 5\n",
      "6 6\n",
      "6 7\n",
      "6 8\n",
      "6 9\n",
      "7 0\n",
      "7 1\n",
      "7 2\n",
      "7 3\n",
      "7 4\n",
      "7 5\n",
      "7 6\n",
      "7 7\n",
      "7 8\n",
      "7 9\n",
      "8 0\n",
      "8 1\n",
      "8 2\n",
      "8 3\n",
      "8 4\n",
      "8 5\n",
      "8 6\n",
      "8 7\n",
      "8 8\n",
      "8 9\n",
      "9 0\n",
      "9 1\n",
      "9 2\n",
      "9 3\n",
      "9 4\n",
      "9 5\n",
      "9 6\n",
      "9 7\n",
      "9 8\n",
      "9 9\n"
     ]
    }
   ],
   "source": [
    "for i in range(10):\n",
    "    for j in range(10):\n",
    "        print (i,j)"
   ]
  },
  {
   "cell_type": "code",
   "execution_count": 7,
   "metadata": {},
   "outputs": [
    {
     "name": "stdout",
     "output_type": "stream",
     "text": [
      "10011\n"
     ]
    }
   ],
   "source": [
    "sum_ = 0\n",
    "for i in range (1,10000):\n",
    "    sum_ += i\n",
    "    if sum_ >10000:\n",
    "        break\n",
    "print (sum_)"
   ]
  },
  {
   "cell_type": "markdown",
   "metadata": {},
   "source": [
    "## EP：\n",
    "- 使用多层循环完成9X9乘法表\n",
    "- 显示50以内所有的素数"
   ]
  },
  {
   "cell_type": "code",
   "execution_count": 20,
   "metadata": {},
   "outputs": [
    {
     "name": "stdout",
     "output_type": "stream",
     "text": [
      "1*1 = 1 \n",
      "1*2 = 2 2*2 = 4 \n",
      "1*3 = 3 2*3 = 6 3*3 = 9 \n",
      "1*4 = 4 2*4 = 8 3*4 = 12 4*4 = 16 \n",
      "1*5 = 5 2*5 = 10 3*5 = 15 4*5 = 20 5*5 = 25 \n",
      "1*6 = 6 2*6 = 12 3*6 = 18 4*6 = 24 5*6 = 30 6*6 = 36 \n",
      "1*7 = 7 2*7 = 14 3*7 = 21 4*7 = 28 5*7 = 35 6*7 = 42 7*7 = 49 \n",
      "1*8 = 8 2*8 = 16 3*8 = 24 4*8 = 32 5*8 = 40 6*8 = 48 7*8 = 56 8*8 = 64 \n",
      "1*9 = 9 2*9 = 18 3*9 = 27 4*9 = 36 5*9 = 45 6*9 = 54 7*9 = 63 8*9 = 72 9*9 = 81 \n"
     ]
    }
   ],
   "source": [
    "for i in range(1,10):\n",
    "    for j in range(1,i+1):\n",
    "        print ('{}*{} = {}'.format(j,i,i*j),end=' ')\n",
    "    print ()"
   ]
  },
  {
   "cell_type": "code",
   "execution_count": 28,
   "metadata": {},
   "outputs": [
    {
     "name": "stdout",
     "output_type": "stream",
     "text": [
      "2\n",
      "3\n",
      "5\n",
      "7\n",
      "11\n",
      "13\n",
      "17\n",
      "19\n",
      "23\n",
      "29\n",
      "31\n",
      "37\n",
      "41\n",
      "43\n",
      "47\n"
     ]
    }
   ],
   "source": [
    "print (2)\n",
    "for i in range(3,51):\n",
    "    for j in range(2,i):\n",
    "        if i % j == 0 :\n",
    "            break\n",
    "    else :\n",
    "        print(i)"
   ]
  },
  {
   "cell_type": "markdown",
   "metadata": {},
   "source": [
    "## 关键字 break 和 continue\n",
    "- break 跳出循环，终止循环\n",
    "- continue 跳出此次循环，继续执行"
   ]
  },
  {
   "cell_type": "markdown",
   "metadata": {},
   "source": [
    "## 注意\n",
    "![](../Photo/56.png)\n",
    "![](../Photo/57.png)"
   ]
  },
  {
   "cell_type": "markdown",
   "metadata": {},
   "source": [
    "# Homework\n",
    "- 1 \n",
    "![](../Photo/58.png)"
   ]
  },
  {
   "cell_type": "code",
   "execution_count": 2,
   "metadata": {},
   "outputs": [
    {
     "name": "stdout",
     "output_type": "stream",
     "text": [
      "请输入数字1\n",
      "请输入数字2\n",
      "请输入数字-1\n",
      "请输入数字3\n",
      "请输入数字0\n",
      "正数有3个 负数有1个 平均值为:1.25\n"
     ]
    }
   ],
   "source": [
    "num = eval(input('请输入数字'))\n",
    "sum = 0\n",
    "a = 0\n",
    "b = 0\n",
    "while num !=0:\n",
    "    if num >0:\n",
    "        a = a + 1\n",
    "    elif num < 0:\n",
    "        b = b + 1\n",
    "    sum = sum + num\n",
    "    average = sum / (a + b)\n",
    "    num = eval(input('请输入数字'))\n",
    "print ('正数有' + str(a)+ '个 ' + '负数有' + str(b)+ '个 ' + '平均值为:' + str(average))"
   ]
  },
  {
   "cell_type": "markdown",
   "metadata": {},
   "source": [
    "- 2\n",
    "![](../Photo/59.png)"
   ]
  },
  {
   "cell_type": "code",
   "execution_count": 11,
   "metadata": {},
   "outputs": [
    {
     "name": "stdout",
     "output_type": "stream",
     "text": [
      "十年之后的学费是：15513.2822 十年后大学四年的总学费为：115778.9254\n"
     ]
    }
   ],
   "source": [
    "money = 10000\n",
    "i = 1\n",
    "sum = 0\n",
    "while i < 10:\n",
    "    money += money * 0.05\n",
    "    sum = sum + money \n",
    "    i +=1\n",
    "print ('十年之后的学费是：' + str(round(money,4)) + ' 十年后大学四年的总学费为：' + str(round(sum,4)))"
   ]
  },
  {
   "cell_type": "markdown",
   "metadata": {},
   "source": [
    "- 3\n",
    "![](../Photo/58.png)"
   ]
  },
  {
   "cell_type": "code",
   "execution_count": 12,
   "metadata": {},
   "outputs": [
    {
     "name": "stdout",
     "output_type": "stream",
     "text": [
      "请输入数字1\n",
      "请输入数字-9\n",
      "请输入数字6\n",
      "请输入数字-8\n",
      "请输入数字0\n",
      "正数有2个 负数有2个 平均值为:-2.5\n"
     ]
    }
   ],
   "source": [
    "num = eval(input('请输入数字'))\n",
    "sum = 0\n",
    "a = 0\n",
    "b = 0\n",
    "while num !=0:\n",
    "    if num >0:\n",
    "        a = a + 1\n",
    "    elif num < 0:\n",
    "        b = b + 1\n",
    "    sum = sum + num\n",
    "    average = sum / (a + b)\n",
    "    num = eval(input('请输入数字'))\n",
    "print ('正数有' + str(a)+ '个 ' + '负数有' + str(b)+ '个 ' + '平均值为:' + str(round(average,4)))"
   ]
  },
  {
   "cell_type": "markdown",
   "metadata": {},
   "source": [
    "- 4\n",
    "![](../Photo/60.png)"
   ]
  },
  {
   "cell_type": "code",
   "execution_count": 16,
   "metadata": {},
   "outputs": [
    {
     "name": "stdout",
     "output_type": "stream",
     "text": [
      "105 120 135 150 165 180 195 210 225 240 240\n",
      "255 270 285 300 315 330 345 360 375 390 390\n",
      "405 420 435 450 465 480 495 510 525 540 540\n",
      "555 570 585 600 615 630 645 660 675 690 690\n",
      "705 720 735 750 765 780 795 810 825 840 840\n",
      "855 870 885 900 915 930 945 960 975 990 990\n"
     ]
    }
   ],
   "source": [
    "count = 0\n",
    "for i in range(100,1000):\n",
    "    if i % 15 == 0:\n",
    "        print (i,end = ' ')\n",
    "        count +=1\n",
    "        if count % 10 ==0:\n",
    "            print (i)"
   ]
  },
  {
   "cell_type": "markdown",
   "metadata": {},
   "source": [
    "- 5\n",
    "![](../Photo/61.png)"
   ]
  },
  {
   "cell_type": "code",
   "execution_count": 35,
   "metadata": {},
   "outputs": [
    {
     "name": "stdout",
     "output_type": "stream",
     "text": [
      "满足大于12000的最小整数n是：110\n",
      "满足小于12000的最大整数n是：22\n"
     ]
    }
   ],
   "source": [
    "count = 1\n",
    "while count**2 < 12000:\n",
    "    count +=1\n",
    "print('满足大于12000的最小整数n是：' + str(count))\n",
    "count1 = 1\n",
    "while count1**3 <12000:\n",
    "    count1 +=1\n",
    "print ('满足小于12000的最大整数n是：' + str(count1-1))"
   ]
  },
  {
   "cell_type": "code",
   "execution_count": null,
   "metadata": {},
   "outputs": [],
   "source": [
    "amount = eval(input('Loan Amount:'))\n",
    "year = eval(input('Number of Years'))"
   ]
  },
  {
   "cell_type": "markdown",
   "metadata": {},
   "source": [
    "- 7\n",
    "![](../Photo/63.png)"
   ]
  },
  {
   "cell_type": "code",
   "execution_count": 37,
   "metadata": {},
   "outputs": [
    {
     "name": "stdout",
     "output_type": "stream",
     "text": [
      "11.397003949278504\n",
      "11.397003949278519\n"
     ]
    }
   ],
   "source": [
    "sum_ = 0\n",
    "sum1_ = 0\n",
    "n= 50000\n",
    "for i in range(1,50001):\n",
    "    a = 1 / i\n",
    "    sum_ = sum_ + a\n",
    "print(sum)\n",
    "while n >= 1:\n",
    "    b = 1/n\n",
    "    sum1_ = sum1_+1/n\n",
    "    n=n-1\n",
    "print(sum1_)"
   ]
  },
  {
   "cell_type": "markdown",
   "metadata": {},
   "source": [
    "- 8\n",
    "![](../Photo/64.png)"
   ]
  },
  {
   "cell_type": "code",
   "execution_count": 39,
   "metadata": {},
   "outputs": [
    {
     "name": "stdout",
     "output_type": "stream",
     "text": [
      "45.124450303050196\n"
     ]
    }
   ],
   "source": [
    "sum = 0\n",
    "for i in range(1,98,2):\n",
    "    x = i+2\n",
    "    y = i/x\n",
    "    sum = sum+y\n",
    "print (sum)"
   ]
  },
  {
   "cell_type": "markdown",
   "metadata": {},
   "source": [
    "- 9\n",
    "![](../Photo/65.png)"
   ]
  },
  {
   "cell_type": "code",
   "execution_count": 40,
   "metadata": {},
   "outputs": [
    {
     "name": "stdout",
     "output_type": "stream",
     "text": [
      "3.1414926535900345\n",
      "3.1415426535898248\n",
      "3.141559320256462\n",
      "3.1415676535897985\n",
      "3.1415726535897814\n",
      "3.141575986923102\n",
      "3.141578367875482\n",
      "3.1415801535897496\n",
      "3.1415815424786238\n",
      "3.1415826535897198\n"
     ]
    }
   ],
   "source": [
    "i = 1\n",
    "sum = 0\n",
    "for j in range(10000,100001,10000):\n",
    "    while i<=j:\n",
    "        z=((-1)**(i+1))/(2*i-1)\n",
    "        sum = sum + z\n",
    "        i +=1\n",
    "    pi = sum * 4\n",
    "    print(pi)"
   ]
  },
  {
   "cell_type": "markdown",
   "metadata": {},
   "source": [
    "- 10 \n",
    "![](../Photo/66.png)"
   ]
  },
  {
   "cell_type": "code",
   "execution_count": 2,
   "metadata": {},
   "outputs": [
    {
     "name": "stdout",
     "output_type": "stream",
     "text": [
      "6\n",
      "28\n",
      "496\n",
      "8128\n"
     ]
    }
   ],
   "source": [
    "for i in range(1,10001):\n",
    "    a=0\n",
    "    for j in range(1,i):\n",
    "        if i % j == 0:\n",
    "            a = a + j\n",
    "    if i == a:\n",
    "        print(i)"
   ]
  },
  {
   "cell_type": "markdown",
   "metadata": {},
   "source": [
    "- 11\n",
    "![](../Photo/67.png)"
   ]
  },
  {
   "cell_type": "code",
   "execution_count": 14,
   "metadata": {},
   "outputs": [
    {
     "name": "stdout",
     "output_type": "stream",
     "text": [
      "1 2\n",
      "1 3\n",
      "2 3\n",
      "1 4\n",
      "2 4\n",
      "3 4\n",
      "1 5\n",
      "2 5\n",
      "3 5\n",
      "4 5\n",
      "1 6\n",
      "2 6\n",
      "3 6\n",
      "4 6\n",
      "5 6\n",
      "1 7\n",
      "2 7\n",
      "3 7\n",
      "4 7\n",
      "5 7\n",
      "6 7\n",
      "The total number of all combinations is:21\n"
     ]
    }
   ],
   "source": [
    "sum = 0\n",
    "for i in range(1,8):\n",
    "    for j in range(1,i):\n",
    "        sum = sum + 1\n",
    "        print(j,i)\n",
    "print ('The total number of all combinations is:' + str(sum))"
   ]
  },
  {
   "cell_type": "markdown",
   "metadata": {},
   "source": [
    "- 12\n",
    "![](../Photo/68.png)"
   ]
  }
 ],
 "metadata": {
  "kernelspec": {
   "display_name": "Python 3",
   "language": "python",
   "name": "python3"
  },
  "language_info": {
   "codemirror_mode": {
    "name": "ipython",
    "version": 3
   },
   "file_extension": ".py",
   "mimetype": "text/x-python",
   "name": "python",
   "nbconvert_exporter": "python",
   "pygments_lexer": "ipython3",
   "version": "3.6.4"
  }
 },
 "nbformat": 4,
 "nbformat_minor": 2
}
