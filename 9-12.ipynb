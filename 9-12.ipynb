{
 "cells": [
  {
   "cell_type": "markdown",
   "metadata": {},
   "source": [
    "# 选择\n",
    "## 布尔类型、数值和表达式\n",
    "![](../Photo/33.png)\n",
    "- 注意：比较运算符的相等是两个等到，一个等到代表赋值\n",
    "- 在Python中可以用整型0来代表False，其他数字来代表True\n",
    "- 后面还会讲到 is 在判断语句中的用发"
   ]
  },
  {
   "cell_type": "code",
   "execution_count": 10,
   "metadata": {},
   "outputs": [
    {
     "name": "stdout",
     "output_type": "stream",
     "text": [
      "请输入成绩95\n",
      "A\n"
     ]
    }
   ],
   "source": [
    "num = eval(input('请输入成绩'))\n",
    "if num>= 90:\n",
    "    print ('A')\n",
    "elif num >= 80:\n",
    "    print ('B')\n",
    "elif num >=70:\n",
    "    print ('C')\n",
    "elif num >=60:\n",
    "    print ('D')"
   ]
  },
  {
   "cell_type": "markdown",
   "metadata": {},
   "source": [
    "## 字符串的比较使用ASCII值"
   ]
  },
  {
   "cell_type": "markdown",
   "metadata": {},
   "source": [
    "## Markdown \n",
    "- https://github.com/younghz/Markdown"
   ]
  },
  {
   "cell_type": "markdown",
   "metadata": {},
   "source": [
    "## EP:\n",
    "- <img src=\"../Photo/34.png\"></img>\n",
    "- 输入一个数字，判断其实奇数还是偶数"
   ]
  },
  {
   "cell_type": "markdown",
   "metadata": {},
   "source": [
    "## 产生随机数字\n",
    "- 函数random.randint(a,b) 可以用来产生一个a和b之间且包括a和b的随机整数"
   ]
  },
  {
   "cell_type": "code",
   "execution_count": 2,
   "metadata": {},
   "outputs": [
    {
     "name": "stdout",
     "output_type": "stream",
     "text": [
      "请输入你要猜的数字2\n",
      "猜小了\n",
      "请输入你要猜的数字3\n",
      "恭喜你，猜对了\n"
     ]
    }
   ],
   "source": [
    "import random\n",
    "n = random.randint(1,5)\n",
    "while True:\n",
    "    num = eval(input('请输入你要猜的数字'))\n",
    "    if num == n:\n",
    "        print ('恭喜你，猜对了')\n",
    "        break\n",
    "    elif num < n:\n",
    "        print ('猜小了')\n",
    "    elif num > n: \n",
    "        print ('猜大了')"
   ]
  },
  {
   "cell_type": "markdown",
   "metadata": {},
   "source": [
    "##  其他random方法\n",
    "- random.random 返回0.0到1.0之间前闭后开区间的随机浮点\n",
    "- random.randrange(a,b) 前闭后开"
   ]
  },
  {
   "cell_type": "code",
   "execution_count": 33,
   "metadata": {},
   "outputs": [
    {
     "data": {
      "text/plain": [
       "4"
      ]
     },
     "execution_count": 33,
     "metadata": {},
     "output_type": "execute_result"
    }
   ],
   "source": [
    "random.randrange(0,10,2)"
   ]
  },
  {
   "cell_type": "markdown",
   "metadata": {},
   "source": [
    "## EP：\n",
    "- 产生两个随机整数number1和number2，然后显示给用户，使用户输入数字的和，并判定其是否正确\n",
    "- 进阶:写一个随机序号点名程序"
   ]
  },
  {
   "cell_type": "code",
   "execution_count": 1,
   "metadata": {},
   "outputs": [
    {
     "name": "stdout",
     "output_type": "stream",
     "text": [
      "产生的第一个随机数字为：26\n",
      "产生的第二个随机数字为：30\n",
      "请输入这两个随机数的和：56\n",
      "正确\n"
     ]
    }
   ],
   "source": [
    "import random\n",
    "number1 = random.randint(1,100)\n",
    "number2 = random.randint(1,100)\n",
    "num = number1 + number2\n",
    "print ('产生的第一个随机数字为：' + str(number1))\n",
    "print ('产生的第二个随机数字为：' + str(number2))\n",
    "while True:\n",
    "    n = eval(input('请输入这两个随机数的和：'))\n",
    "    if num == n:\n",
    "        print ('正确')\n",
    "        break\n",
    "    else:\n",
    "        print ('错误')"
   ]
  },
  {
   "cell_type": "code",
   "execution_count": null,
   "metadata": {},
   "outputs": [],
   "source": []
  },
  {
   "cell_type": "markdown",
   "metadata": {},
   "source": [
    "## if语句\n",
    "- 如果条件正确就执行一个单向if语句，亦即当条件为真的时候才执行if内部的语句\n",
    "- Python有很多选择语句:\n",
    "> - 单向if \n",
    "  - 双向if-else\n",
    "  - 嵌套if\n",
    "  - 多向if-elif-else\n",
    "  \n",
    "- 注意：当语句含有子语句的时候，那么一定至少要有一个缩进，也就是说如果有儿子存在，那么一定要缩进\n",
    "- 切记不可tab键和space混用，单用tab 或者 space\n",
    "- 当你输出的结果是无论if是否为真时都需要显示时，语句应该与if对齐"
   ]
  },
  {
   "cell_type": "code",
   "execution_count": null,
   "metadata": {},
   "outputs": [],
   "source": [
    "if age > 30:\n",
    "    print ('不见')\n",
    "    break\n",
    "elif age < 30:\n",
    "    print ('见面')\n",
    "    if face == '丑':\n",
    "        print ('不见')\n",
    "        break\n",
    "    elif face == '帅或中等':\n",
    "        print ('见面')\n",
    "        if money == '低':\n",
    "            print ('不见面')\n",
    "            break\n",
    "        elif money == '高':\n",
    "            print ('见面')\n",
    "        elif money == '中等':\n",
    "            if gongwuyuan == False:\n",
    "                print ('不见面')\n",
    "                break\n",
    "            elif gongwuyuan == True:\n",
    "                print ('见面')\n",
    "                "
   ]
  },
  {
   "cell_type": "markdown",
   "metadata": {},
   "source": [
    "## EP：\n",
    "- 用户输入一个数字，判断其实奇数还是偶数\n",
    "- 进阶：可以查看下4.5实例研究猜生日"
   ]
  },
  {
   "cell_type": "markdown",
   "metadata": {},
   "source": [
    "## 双向if-else 语句\n",
    "- 如果条件为真，那么走if内部语句，否则走else内部语句"
   ]
  },
  {
   "cell_type": "markdown",
   "metadata": {},
   "source": [
    "## EP：\n",
    "- 产生两个随机整数number1和number2，然后显示给用户，使用户输入数字，并判定其是否正确,如果正确打印“you‘re correct”，否则打印正确错误"
   ]
  },
  {
   "cell_type": "markdown",
   "metadata": {},
   "source": [
    "## 嵌套if 和多向if-elif-else\n",
    "![](../Photo/35.png)"
   ]
  },
  {
   "cell_type": "markdown",
   "metadata": {},
   "source": [
    "## EP：\n",
    "- 提示用户输入一个年份，然后显示表示这一年的动物\n",
    "![](../Photo/36.png)\n",
    "- 计算身体质量指数的程序\n",
    "- BMI = 以千克为单位的体重除以以米为单位的身高\n",
    "![](../Photo/37.png)"
   ]
  },
  {
   "cell_type": "code",
   "execution_count": 2,
   "metadata": {},
   "outputs": [
    {
     "name": "stdout",
     "output_type": "stream",
     "text": [
      "请输入一个年份1997\n",
      "你是属牛的\n"
     ]
    }
   ],
   "source": [
    "year = eval(input('请输入一个年份'))\n",
    "while True:\n",
    "    if year % 12 == 0:\n",
    "        print ('你是属猴的')\n",
    "        break\n",
    "    elif year % 12 == 1:\n",
    "        print ('你是属鸡的')\n",
    "        break\n",
    "    elif year % 12 == 2:\n",
    "        print ('你是属狗的')\n",
    "        break\n",
    "    elif year % 12 == 3:\n",
    "        print ('你是属猪的')\n",
    "        break\n",
    "    elif year % 12 == 4:\n",
    "        print ('你是属鼠的')\n",
    "        break\n",
    "    elif year % 12 == 5:\n",
    "        print ('你是属牛的')\n",
    "        break\n",
    "    elif year % 12 == 6:\n",
    "        print ('你是属虎的')\n",
    "        break\n",
    "    elif year % 12 == 7:\n",
    "        print ('你是属兔的')\n",
    "        break\n",
    "    elif year % 12 == 8:\n",
    "        print ('你是属龙的')\n",
    "        break\n",
    "    elif year % 12 == 9:\n",
    "        print ('你是属蛇的')\n",
    "        break\n",
    "    elif year % 12 == 10:\n",
    "        print ('你是属马的')\n",
    "        break\n",
    "    elif year % 12 == 11:\n",
    "        print ('你是属羊的')\n",
    "        break"
   ]
  },
  {
   "cell_type": "code",
   "execution_count": 5,
   "metadata": {},
   "outputs": [
    {
     "name": "stdout",
     "output_type": "stream",
     "text": [
      "请输入你的身高和体重值1.68,51\n",
      "18.069727891156464\n",
      "你太轻啦\n"
     ]
    }
   ],
   "source": [
    "height,weight = eval(input('请输入你的身高和体重值'))\n",
    "BMI = weight / (height**2)\n",
    "print (BMI)\n",
    "while True:\n",
    "    if BMI < 18.5:\n",
    "        print ('你太轻啦')\n",
    "        break\n",
    "    elif 18.5 <= BMI < 25.0:\n",
    "        print ('标准')\n",
    "        break\n",
    "    elif 25.0 <= BMI < 30.0:\n",
    "        print ('有点超重')\n",
    "        break\n",
    "    elif BMI > 30.0:\n",
    "        print ('太胖了，该减肥了')\n",
    "        break"
   ]
  },
  {
   "cell_type": "markdown",
   "metadata": {},
   "source": [
    "## 逻辑运算符\n",
    "![](../Photo/38.png)"
   ]
  },
  {
   "cell_type": "code",
   "execution_count": null,
   "metadata": {},
   "outputs": [],
   "source": []
  },
  {
   "cell_type": "markdown",
   "metadata": {},
   "source": [
    "![](../Photo/39.png)\n",
    "![](../Photo/40.png)"
   ]
  },
  {
   "cell_type": "markdown",
   "metadata": {},
   "source": [
    "## EP：\n",
    "- 判定闰年：一个年份如果能被4整除但不能被100整除，或者能被400整除，那么这个年份就是闰年\n",
    "- 提示用户输入一个年份，并返回是否是闰年\n",
    "- 提示用户输入一个数字，判断其是否为水仙花数"
   ]
  },
  {
   "cell_type": "code",
   "execution_count": 1,
   "metadata": {},
   "outputs": [
    {
     "name": "stdout",
     "output_type": "stream",
     "text": [
      "请输入一个年份2008\n",
      "2008是闰年\n"
     ]
    }
   ],
   "source": [
    "year = eval(input('请输入一个年份'))\n",
    "while True:\n",
    "    if year % 4 == 0 and year % 100 != 0 or year % 400 == 0:\n",
    "        print (str(year) + '是闰年')\n",
    "        break"
   ]
  },
  {
   "cell_type": "code",
   "execution_count": 11,
   "metadata": {},
   "outputs": [
    {
     "name": "stdout",
     "output_type": "stream",
     "text": [
      "请输入一个最大范围153\n",
      "0\n",
      "1\n",
      "2\n",
      "3\n",
      "4\n",
      "5\n",
      "6\n",
      "7\n",
      "8\n",
      "9\n"
     ]
    }
   ],
   "source": [
    "max_num = eval(input('请输入一个范围'))\n",
    "for num in range(0,max_num):\n",
    "    sum = 0\n",
    "    length = len(str(num))\n",
    "    temp = num\n",
    "    for i in range(length):\n",
    "        sum += (temp % 10) ** length\n",
    "        temp //=10\n",
    "    if sum == num:\n",
    "        print (num)"
   ]
  },
  {
   "cell_type": "code",
   "execution_count": 19,
   "metadata": {},
   "outputs": [
    {
     "name": "stdout",
     "output_type": "stream",
     "text": [
      "请输入一个数153\n",
      "153这个数是水仙花数\n"
     ]
    }
   ],
   "source": [
    "num = eval(input('请输入一个数'))\n",
    "a = num // 100\n",
    "b = num // 10 % 10\n",
    "c = num % 10\n",
    "if a ** 3 + b ** 3 + c ** 3 == num:\n",
    "    print (str(num) + '这个数是水仙花数')\n",
    "else:\n",
    "    print (str(num) + '这个数不是水仙花数')"
   ]
  },
  {
   "cell_type": "markdown",
   "metadata": {},
   "source": [
    "## 实例研究：彩票\n",
    "![](../Photo/41.png)"
   ]
  },
  {
   "cell_type": "code",
   "execution_count": 25,
   "metadata": {},
   "outputs": [
    {
     "name": "stdout",
     "output_type": "stream",
     "text": [
      "请输入一个两位数的数字00\n"
     ]
    },
    {
     "ename": "TypeError",
     "evalue": "'int' object is not subscriptable",
     "output_type": "error",
     "traceback": [
      "\u001b[1;31m---------------------------------------------------------------------------\u001b[0m",
      "\u001b[1;31mTypeError\u001b[0m                                 Traceback (most recent call last)",
      "\u001b[1;32m<ipython-input-25-e1c6f8e83d03>\u001b[0m in \u001b[0;36m<module>\u001b[1;34m()\u001b[0m\n\u001b[0;32m      6\u001b[0m \u001b[1;32mif\u001b[0m \u001b[0mrandom_\u001b[0m \u001b[1;33m==\u001b[0m \u001b[0mnum\u001b[0m\u001b[1;33m:\u001b[0m\u001b[1;33m\u001b[0m\u001b[0m\n\u001b[0;32m      7\u001b[0m     \u001b[0mprint\u001b[0m\u001b[1;33m(\u001b[0m \u001b[1;34m'一等奖'\u001b[0m\u001b[1;33m)\u001b[0m\u001b[1;33m\u001b[0m\u001b[0m\n\u001b[1;32m----> 8\u001b[1;33m \u001b[1;32melif\u001b[0m \u001b[1;33m(\u001b[0m\u001b[0mnum\u001b[0m\u001b[1;33m[\u001b[0m\u001b[1;36m0\u001b[0m\u001b[1;33m]\u001b[0m \u001b[1;33m==\u001b[0m \u001b[0mrandom_\u001b[0m\u001b[1;33m[\u001b[0m\u001b[1;36m1\u001b[0m\u001b[1;33m]\u001b[0m\u001b[1;33m)\u001b[0m \u001b[1;32mand\u001b[0m \u001b[1;33m(\u001b[0m\u001b[0mnum\u001b[0m\u001b[1;33m[\u001b[0m\u001b[1;36m1\u001b[0m\u001b[1;33m]\u001b[0m \u001b[1;33m==\u001b[0m \u001b[0mrandom_\u001b[0m\u001b[1;33m[\u001b[0m\u001b[1;36m0\u001b[0m\u001b[1;33m]\u001b[0m\u001b[1;33m)\u001b[0m\u001b[1;33m:\u001b[0m\u001b[1;33m\u001b[0m\u001b[0m\n\u001b[0m\u001b[0;32m      9\u001b[0m     \u001b[0mprint\u001b[0m\u001b[1;33m(\u001b[0m\u001b[1;34m'二等奖'\u001b[0m\u001b[1;33m)\u001b[0m\u001b[1;33m\u001b[0m\u001b[0m\n\u001b[0;32m     10\u001b[0m \u001b[1;32melif\u001b[0m \u001b[1;33m(\u001b[0m\u001b[0mnum\u001b[0m\u001b[1;33m[\u001b[0m\u001b[1;36m0\u001b[0m\u001b[1;33m]\u001b[0m \u001b[1;33m==\u001b[0m \u001b[0mrandom_\u001b[0m\u001b[1;33m[\u001b[0m\u001b[1;36m0\u001b[0m\u001b[1;33m]\u001b[0m\u001b[1;33m)\u001b[0m \u001b[1;32mor\u001b[0m \u001b[1;33m(\u001b[0m\u001b[0mnum\u001b[0m\u001b[1;33m[\u001b[0m\u001b[1;36m1\u001b[0m\u001b[1;33m]\u001b[0m \u001b[1;33m==\u001b[0m \u001b[0mrandom_\u001b[0m\u001b[1;33m[\u001b[0m\u001b[1;36m0\u001b[0m\u001b[1;33m]\u001b[0m\u001b[1;33m)\u001b[0m \u001b[1;32mor\u001b[0m \u001b[1;33m(\u001b[0m\u001b[0mnum\u001b[0m\u001b[1;33m[\u001b[0m\u001b[1;36m0\u001b[0m\u001b[1;33m]\u001b[0m \u001b[1;33m==\u001b[0m \u001b[0mrandom_\u001b[0m\u001b[1;33m[\u001b[0m\u001b[1;36m1\u001b[0m\u001b[1;33m]\u001b[0m\u001b[1;33m)\u001b[0m \u001b[1;32mor\u001b[0m \u001b[1;33m(\u001b[0m\u001b[0mnum\u001b[0m\u001b[1;33m[\u001b[0m\u001b[1;36m1\u001b[0m\u001b[1;33m]\u001b[0m \u001b[1;33m==\u001b[0m \u001b[0mrandom_\u001b[0m\u001b[1;33m[\u001b[0m\u001b[1;36m1\u001b[0m\u001b[1;33m]\u001b[0m\u001b[1;33m)\u001b[0m\u001b[1;33m:\u001b[0m\u001b[1;33m\u001b[0m\u001b[0m\n",
      "\u001b[1;31mTypeError\u001b[0m: 'int' object is not subscriptable"
     ]
    }
   ],
   "source": [
    "import random\n",
    "random_1 = random.randint(0,9)\n",
    "random_2 = random.randint(0,9)\n",
    "random_ = str(number_1) + str(number_2)\n",
    "num = eval(input('请输入一个两位数的数字'))\n",
    "if random_ == num:\n",
    "    print( '一等奖')\n",
    "elif (num[0] == random_[1]) and (num[1] == random_[0]):\n",
    "    print('二等奖')\n",
    "elif (num[0] == random_[0]) or (num[1] == random_[0]) or (num[0] == random_[1]) or (num[1] == random_[1]):\n",
    "    print('三等奖')\n",
    "else:\n",
    "    print ('没有中奖')"
   ]
  },
  {
   "cell_type": "markdown",
   "metadata": {},
   "source": [
    "# Homework\n",
    "- 1\n",
    "![](../Photo/42.png)"
   ]
  },
  {
   "cell_type": "code",
   "execution_count": 21,
   "metadata": {},
   "outputs": [
    {
     "name": "stdout",
     "output_type": "stream",
     "text": [
      "请输入a,b,c三个常数1.0,3,1\n",
      "-1.4444444444444444-1.5555555555555556\n"
     ]
    }
   ],
   "source": [
    "import math\n",
    "a,b,c = eval(input('请输入a,b,c三个常数'))\n",
    "root = (b*b - (4 * a * c))\n",
    "if root > 0:\n",
    "    r1 = (-b + (math.sqrt(b*b - 4 * a * c))) / (2 * a)\n",
    "    r2 = (-b - (math.sqrt(b*b - 4 * a * c))) / (2 * a)\n",
    "    print (str(r1) + str(r2))\n",
    "elif root == 0:\n",
    "    r1 = ((-b) + (math.sqrt(b** - 4 * a * c))) / (2 * a)\n",
    "    r2 = ((-b) - (math.sqrt(b ** - 4 * a * c))) / (2 * a)\n",
    "    print (str(r1)or str(r2))\n",
    "elif root < 0:\n",
    "    print ('The equation has no real roots')"
   ]
  },
  {
   "cell_type": "code",
   "execution_count": 2,
   "metadata": {},
   "outputs": [
    {
     "name": "stdout",
     "output_type": "stream",
     "text": [
      "请输入a,b,c三个常数1,2,0.1\n",
      "-1.0395284707521046\n"
     ]
    }
   ],
   "source": [
    "import math\n",
    "a,b,c = eval(input('请输入a,b,c三个常数'))\n",
    "root = (b **2 - (4 * a * c))\n",
    "if root > 0:\n",
    "    r1 = ((-b) + (math.sqrt(b ** - 4 * a * c))) / (2 * a)\n",
    "    r2 = ((-b) - (math.sqrt(b ** - 4 * a * c))) / (2 * a)\n",
    "    print (str(r1)and str(r2))\n",
    "elif root == 0:\n",
    "    r1 = ((-b) + (math.sqrt(b** - 4 * a * c))) / (2 * a)\n",
    "    r2 = ((-b) - (math.sqrt(b ** - 4 * a * c))) / (2 * a)\n",
    "    print (str(r1)or str(r2))\n",
    "else:\n",
    "    print ('The equation has no real roots')"
   ]
  },
  {
   "cell_type": "code",
   "execution_count": 5,
   "metadata": {},
   "outputs": [
    {
     "name": "stdout",
     "output_type": "stream",
     "text": [
      "请输入a,b,c三个常数1,2,3\n",
      "The equation has no real roots\n"
     ]
    }
   ],
   "source": [
    "import math\n",
    "a,b,c = eval(input('请输入a,b,c三个常数'))\n",
    "root = (b **2 - (4 * a * c))\n",
    "if root > 0:\n",
    "    r1 = ((-b) + (math.sqrt(b ** - 4 * a * c))) / (2 * a)\n",
    "    r2 = ((-b) - (math.sqrt(b ** - 4 * a * c))) / (2 * a)\n",
    "    print (str(r1)and str(r2))\n",
    "elif root == 0:\n",
    "    r1 = ((-b) + (math.sqrt(b** - 4 * a * c))) / (2 * a)\n",
    "    r2 = ((-b) - (math.sqrt(b ** - 4 * a * c))) / (2 * a)\n",
    "    print (str(r1)or str(r2))\n",
    "else:\n",
    "    print ('The equation has no real roots')"
   ]
  },
  {
   "cell_type": "markdown",
   "metadata": {},
   "source": [
    "- 2\n",
    "![](../Photo/43.png)"
   ]
  },
  {
   "cell_type": "code",
   "execution_count": 6,
   "metadata": {},
   "outputs": [
    {
     "name": "stdout",
     "output_type": "stream",
     "text": [
      "产生的第一个随机数字为：2\n",
      "产生的第二个随机数字为：19\n",
      "请输入这两个随机数的和：23\n",
      "你算的是错误的\n",
      "请输入这两个随机数的和：21\n",
      "你算得是正确的\n"
     ]
    }
   ],
   "source": [
    "import random\n",
    "number1 = random.randint(1,100)\n",
    "number2 = random.randint(1,100)\n",
    "num = number1 + number2\n",
    "print ('产生的第一个随机数字为：' + str(number1))\n",
    "print ('产生的第二个随机数字为：' + str(number2))\n",
    "while True:\n",
    "    n = eval(input('请输入这两个随机数的和：'))\n",
    "    if num == n:\n",
    "        print ('你算得是正确的')\n",
    "        break\n",
    "    else:\n",
    "        print ('你算的是错误的')"
   ]
  },
  {
   "cell_type": "markdown",
   "metadata": {},
   "source": [
    "- 3\n",
    "![](../Photo/44.png)"
   ]
  },
  {
   "cell_type": "code",
   "execution_count": null,
   "metadata": {},
   "outputs": [
    {
     "name": "stdout",
     "output_type": "stream",
     "text": [
      "请输入表示一周内哪天的数字2\n",
      "Tuesday\n"
     ]
    }
   ],
   "source": [
    "num = eval(input('请输入表示一周内哪天的数字'))\n",
    "if num == 0:\n",
    "    print ('Sunday')\n",
    "elif num == 1:\n",
    "    print ('Monday')\n",
    "elif num == 2:\n",
    "    print ('Tuesday')\n",
    "elif num == 3:\n",
    "    print ('Wednesday')\n",
    "elif num == 4:\n",
    "    print ('Thursday')\n",
    "elif num == 5:\n",
    "    print ('Friday')\n",
    "else:\n",
    "    print ('Saturday')\n",
    "number_1 = eval(input('请输入今天之后到未来某天的天数'))"
   ]
  },
  {
   "cell_type": "markdown",
   "metadata": {},
   "source": [
    "- 4\n",
    "![](../Photo/45.png)"
   ]
  },
  {
   "cell_type": "code",
   "execution_count": 10,
   "metadata": {},
   "outputs": [
    {
     "name": "stdout",
     "output_type": "stream",
     "text": [
      "请输入三个整数3,5,1\n",
      "5>=3>=1\n"
     ]
    }
   ],
   "source": [
    "a,b,c = eval(input('请输入三个整数'))\n",
    "if a>=b and a>=c:\n",
    "    if b>=c:\n",
    "        print (str(a)+ '>=' +str(b) + '>=' + str(c))\n",
    "    else:\n",
    "        print (str(a)+ '>=' +str(c) + '>=' + str(b))\n",
    "elif b>=a and b>=c:\n",
    "    if a>=c:\n",
    "        print (str(b)+ '>=' +str(a) + '>=' + str(c))\n",
    "    else:\n",
    "        print (str(b)+ '>=' +str(c) + '>=' + str(a))\n",
    "elif c>=a and c>=b:\n",
    "    if a>=b:\n",
    "        print (str(c)+ '>=' +str(a) + '>=' + str(b))\n",
    "    else:\n",
    "        print (str(c)+ '>=' +str(b) + '>=' + str(a))"
   ]
  },
  {
   "cell_type": "markdown",
   "metadata": {},
   "source": [
    "- 5\n",
    "![](../Photo/46.png)"
   ]
  },
  {
   "cell_type": "code",
   "execution_count": 13,
   "metadata": {},
   "outputs": [
    {
     "name": "stdout",
     "output_type": "stream",
     "text": [
      "请输入大米1号的重量和价钱50,24.59\n",
      "请输入大米2号的重量和价钱25,11.99\n",
      "package 2 has the better price\n"
     ]
    }
   ],
   "source": [
    "weight,price = eval(input('请输入大米1号的重量和价钱'))\n",
    "weight,price = eval(input('请输入大米2号的重量和价钱'))\n",
    "package_1 = price / weight\n",
    "package_2 = price / weight\n",
    "if package_1 > package_2:\n",
    "    print ('package 1 has the better price')\n",
    "else:\n",
    "    print ('package 2 has the better price')"
   ]
  },
  {
   "cell_type": "markdown",
   "metadata": {},
   "source": [
    "- 6\n",
    "![](../Photo/47.png)"
   ]
  },
  {
   "cell_type": "code",
   "execution_count": 17,
   "metadata": {},
   "outputs": [
    {
     "name": "stdout",
     "output_type": "stream",
     "text": [
      "请输入月和年2,2008\n",
      "2008有29天\n"
     ]
    }
   ],
   "source": [
    "month,year = eval(input('请输入月和年'))\n",
    "if month ==1 or month ==3 or month ==5 or month ==7 or month ==8 or month ==10 or month ==12:\n",
    "    print (str(year) + '有31天')\n",
    "elif month ==4 or month ==6 or month ==9 or month ==11:\n",
    "    print (str(year) + '有30天')\n",
    "elif month ==2:\n",
    "    if year % 4 == 0 and year % 100 != 0 or year % 400 == 0:\n",
    "        print (str(year) + '有29天')\n",
    "    else:\n",
    "        print (str(year) + '有28天')"
   ]
  },
  {
   "cell_type": "markdown",
   "metadata": {},
   "source": [
    "- 7\n",
    "![](../Photo/48.png)"
   ]
  },
  {
   "cell_type": "code",
   "execution_count": 18,
   "metadata": {},
   "outputs": [
    {
     "name": "stdout",
     "output_type": "stream",
     "text": [
      "请猜测一个弹起的硬币是正面还是反面,请输入猜测值范围是1-205\n",
      "你的猜测是错误的\n"
     ]
    }
   ],
   "source": [
    "guess = eval(input('请猜测一个弹起的硬币是正面还是反面,请输入猜测值范围是1-20'))\n",
    "num_1 = (1,10)\n",
    "num_2 = (11-20)\n",
    "if guess ==num_1:\n",
    "    print ('你的猜测是正确的')\n",
    "else:\n",
    "    print ('你的猜测是错误的')"
   ]
  },
  {
   "cell_type": "markdown",
   "metadata": {},
   "source": [
    "- 8\n",
    "![](../Photo/49.png)"
   ]
  },
  {
   "cell_type": "code",
   "execution_count": 23,
   "metadata": {},
   "outputs": [
    {
     "name": "stdout",
     "output_type": "stream",
     "text": [
      "scissor(0),rock(1),paper(2)2\n",
      "The computer is0,You are2too,You won\n"
     ]
    }
   ],
   "source": [
    "import random\n",
    "a = eval(input('scissor(0),rock(1),paper(2)'))\n",
    "x = random.randint(0,2)\n",
    "if a == x:\n",
    "    print ('The computer is' +str(x) + ',You are' +str(a) +'too,Tt is a draw')\n",
    "elif (a > x) or (a == 0 and (x == 2)):\n",
    "    print ('The computer is' +str(x) + ',You are' +str(a) +'too,You won')\n",
    "else:\n",
    "    print ('The computer is' +str(x) + ',You are' +str(a) +'too,You lose')"
   ]
  },
  {
   "cell_type": "markdown",
   "metadata": {},
   "source": [
    "- 9\n",
    "![](../Photo/50.png)"
   ]
  },
  {
   "cell_type": "markdown",
   "metadata": {},
   "source": [
    "- 10\n",
    "![](../Photo/51.png)"
   ]
  },
  {
   "cell_type": "code",
   "execution_count": null,
   "metadata": {},
   "outputs": [],
   "source": [
    "card = eval(input('请从52张牌中抽取一张牌'))\n",
    "size = () "
   ]
  },
  {
   "cell_type": "markdown",
   "metadata": {},
   "source": [
    "- 11\n",
    "![](../Photo/52.png)"
   ]
  },
  {
   "cell_type": "code",
   "execution_count": 33,
   "metadata": {},
   "outputs": [
    {
     "name": "stdout",
     "output_type": "stream",
     "text": [
      "请输入一个三位数121\n",
      "121 is a palindrome\n"
     ]
    }
   ],
   "source": [
    "num = eval(input('请输入一个三位数'))\n",
    "a = num // 100\n",
    "b = num % 100 // 10\n",
    "c = num % 10\n",
    "if a == c:\n",
    "    print (str(num) + ' is a palindrome')\n",
    "else:\n",
    "    print (str(num) + ' is not a palindrome')"
   ]
  },
  {
   "cell_type": "markdown",
   "metadata": {},
   "source": [
    "- 12\n",
    "![](../Photo/53.png)"
   ]
  },
  {
   "cell_type": "code",
   "execution_count": 26,
   "metadata": {},
   "outputs": [
    {
     "name": "stdout",
     "output_type": "stream",
     "text": [
      "请输入三角形的三条边长1,1,1\n",
      "The perimeter is 3\n"
     ]
    }
   ],
   "source": [
    "a,b,c = eval(input('请输入三角形的三条边长'))\n",
    "if (a+b>c) and (a+c>b) and (c+b)>a:\n",
    "    d = a + b + c\n",
    "    print ('The perimeter is ' + str(d))\n",
    "else:\n",
    "    print ('输入时非法的')"
   ]
  },
  {
   "cell_type": "code",
   "execution_count": null,
   "metadata": {},
   "outputs": [],
   "source": []
  }
 ],
 "metadata": {
  "kernelspec": {
   "display_name": "Python 3",
   "language": "python",
   "name": "python3"
  },
  "language_info": {
   "codemirror_mode": {
    "name": "ipython",
    "version": 3
   },
   "file_extension": ".py",
   "mimetype": "text/x-python",
   "name": "python",
   "nbconvert_exporter": "python",
   "pygments_lexer": "ipython3",
   "version": "3.6.4"
  }
 },
 "nbformat": 4,
 "nbformat_minor": 2
}
