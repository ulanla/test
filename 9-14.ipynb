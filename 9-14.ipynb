{
 "cells": [
  {
   "cell_type": "markdown",
   "metadata": {},
   "source": [
    "# 函数\n",
    "\n",
    "- 函数可以用来定义可重复代码，组织和简化\n",
    "- 一般来说一个函数在实际开发中为一个小功能\n",
    "- 一个类为一个大功能\n",
    "- 同样函数的长度不要超过一屏"
   ]
  },
  {
   "cell_type": "markdown",
   "metadata": {},
   "source": [
    "## 定义一个函数\n",
    "\n",
    "def function_name(list of parameters):\n",
    "    \n",
    "    do something\n",
    "![](../Photo/69.png)\n",
    "- 以前使用的random 或者range 或者print.. 其实都是函数或者类"
   ]
  },
  {
   "cell_type": "code",
   "execution_count": 22,
   "metadata": {},
   "outputs": [],
   "source": [
    "def pd():\n",
    "    num = eval(input('>>'))\n",
    "    if num % 2 == 0:\n",
    "        print (str(num) + '是偶数')\n",
    "    else:\n",
    "        print (str(num) + '是奇数')"
   ]
  },
  {
   "cell_type": "code",
   "execution_count": 16,
   "metadata": {},
   "outputs": [
    {
     "name": "stdout",
     "output_type": "stream",
     "text": [
      ">>2\n",
      "2是偶数\n"
     ]
    }
   ],
   "source": [
    "pd()"
   ]
  },
  {
   "cell_type": "code",
   "execution_count": 23,
   "metadata": {},
   "outputs": [
    {
     "ename": "SyntaxError",
     "evalue": "invalid syntax (<ipython-input-23-5b36dadc5482>, line 5)",
     "output_type": "error",
     "traceback": [
      "\u001b[1;36m  File \u001b[1;32m\"<ipython-input-23-5b36dadc5482>\"\u001b[1;36m, line \u001b[1;32m5\u001b[0m\n\u001b[1;33m    else:\u001b[0m\n\u001b[1;37m       ^\u001b[0m\n\u001b[1;31mSyntaxError\u001b[0m\u001b[1;31m:\u001b[0m invalid syntax\n"
     ]
    }
   ],
   "source": [
    "def sushu():\n",
    "    n = eval(input('>>'))\n",
    "    if n % 1 ==0 and n % n ==0:\n",
    "        print ((str(n) + '是素数')\n",
    "    else:\n",
    "        print ((str(n) + '不是素数')"
   ]
  },
  {
   "cell_type": "code",
   "execution_count": 20,
   "metadata": {},
   "outputs": [
    {
     "ename": "NameError",
     "evalue": "name 'sushu' is not defined",
     "output_type": "error",
     "traceback": [
      "\u001b[1;31m---------------------------------------------------------------------------\u001b[0m",
      "\u001b[1;31mNameError\u001b[0m                                 Traceback (most recent call last)",
      "\u001b[1;32m<ipython-input-20-e2d2a6e1e991>\u001b[0m in \u001b[0;36m<module>\u001b[1;34m()\u001b[0m\n\u001b[1;32m----> 1\u001b[1;33m \u001b[0msushu\u001b[0m\u001b[1;33m(\u001b[0m\u001b[1;33m)\u001b[0m\u001b[1;33m\u001b[0m\u001b[0m\n\u001b[0m",
      "\u001b[1;31mNameError\u001b[0m: name 'sushu' is not defined"
     ]
    }
   ],
   "source": [
    "sushu()"
   ]
  },
  {
   "cell_type": "markdown",
   "metadata": {},
   "source": [
    "## 调用一个函数\n",
    "- functionName()\n",
    "- \"()\" 就代表调用"
   ]
  },
  {
   "cell_type": "markdown",
   "metadata": {},
   "source": [
    "![](../Photo/70.png)"
   ]
  },
  {
   "cell_type": "markdown",
   "metadata": {},
   "source": [
    "## 带返回值和不带返回值的函数\n",
    "- return 返回的内容\n",
    "- return 返回多个值\n",
    "- 一般情况下，在多个函数协同完成一个功能的时候，那么将会有返回值"
   ]
  },
  {
   "cell_type": "markdown",
   "metadata": {},
   "source": [
    "![](../Photo/71.png)\n",
    "\n",
    "- 当然也可以自定义返回None"
   ]
  },
  {
   "cell_type": "markdown",
   "metadata": {},
   "source": [
    "## EP：\n",
    "![](../Photo/72.png)"
   ]
  },
  {
   "cell_type": "markdown",
   "metadata": {},
   "source": [
    "## 类型和关键字参数\n",
    "- 普通参数\n",
    "- 多个参数\n",
    "- 默认值参数\n",
    "- 不定长参数"
   ]
  },
  {
   "cell_type": "code",
   "execution_count": 4,
   "metadata": {},
   "outputs": [],
   "source": [
    "def hanshu(x):\n",
    "    y = x**2\n",
    "    print (y)"
   ]
  },
  {
   "cell_type": "code",
   "execution_count": 10,
   "metadata": {},
   "outputs": [
    {
     "name": "stdout",
     "output_type": "stream",
     "text": [
      "4\n"
     ]
    }
   ],
   "source": [
    "hanshu(x = 2)"
   ]
  },
  {
   "cell_type": "code",
   "execution_count": 8,
   "metadata": {},
   "outputs": [],
   "source": [
    "def y(x):\n",
    "    return x**2"
   ]
  },
  {
   "cell_type": "code",
   "execution_count": 9,
   "metadata": {},
   "outputs": [
    {
     "name": "stdout",
     "output_type": "stream",
     "text": [
      "10000\n"
     ]
    }
   ],
   "source": [
    "y_ = y(100)\n",
    "print (y_)"
   ]
  },
  {
   "cell_type": "code",
   "execution_count": 11,
   "metadata": {},
   "outputs": [],
   "source": [
    "def input_():\n",
    "    num = eval(input('>>'))\n",
    "    res3 = san(num)\n",
    "    res2 = liang(num)\n",
    "    print (res3 - res2)\n",
    "def san(num):\n",
    "    return num**3\n",
    "def liang(num):\n",
    "    return num**2"
   ]
  },
  {
   "cell_type": "code",
   "execution_count": 12,
   "metadata": {},
   "outputs": [
    {
     "name": "stdout",
     "output_type": "stream",
     "text": [
      ">>10\n",
      "900\n"
     ]
    }
   ],
   "source": [
    "input_()"
   ]
  },
  {
   "cell_type": "markdown",
   "metadata": {},
   "source": [
    "## 普通参数"
   ]
  },
  {
   "cell_type": "markdown",
   "metadata": {},
   "source": [
    "## 多个参数"
   ]
  },
  {
   "cell_type": "code",
   "execution_count": null,
   "metadata": {},
   "outputs": [],
   "source": []
  },
  {
   "cell_type": "markdown",
   "metadata": {},
   "source": [
    "## 默认值参数"
   ]
  },
  {
   "cell_type": "code",
   "execution_count": 27,
   "metadata": {},
   "outputs": [],
   "source": [
    "zhanghu = '162@qq.com'\n",
    "mima = '123hahaha'\n",
    "is_ok_and_y = False"
   ]
  },
  {
   "cell_type": "code",
   "execution_count": 28,
   "metadata": {},
   "outputs": [],
   "source": [
    "def login(account,password):\n",
    "    if account == zhanghu and password == mima:\n",
    "        print ('登陆成功')\n",
    "    else:\n",
    "        print ('账号或密码错误')\n",
    "    "
   ]
  },
  {
   "cell_type": "code",
   "execution_count": 29,
   "metadata": {},
   "outputs": [
    {
     "name": "stdout",
     "output_type": "stream",
     "text": [
      "登陆成功\n"
     ]
    }
   ],
   "source": [
    "login(account='162@qq.com',password='123hahaha')"
   ]
  },
  {
   "cell_type": "code",
   "execution_count": 30,
   "metadata": {},
   "outputs": [],
   "source": [
    "def qidong():\n",
    "    global is_ok_and_y\n",
    "    if is_ok_and_y ==False:\n",
    "        print('是否七天免登陆')\n",
    "        res = input('>>')\n",
    "        account = input('请输入账号')\n",
    "        password = input('请输入密码')\n",
    "        if res =='y':\n",
    "            login(account,password)\n",
    "            is_ok_and_y = True\n",
    "        else:\n",
    "            login(account,password)\n",
    "    else:\n",
    "        print ('登陆成功')\n"
   ]
  },
  {
   "cell_type": "code",
   "execution_count": 32,
   "metadata": {},
   "outputs": [
    {
     "name": "stdout",
     "output_type": "stream",
     "text": [
      "登陆成功\n"
     ]
    }
   ],
   "source": [
    "qidong()"
   ]
  },
  {
   "cell_type": "markdown",
   "metadata": {},
   "source": [
    "## 强制命名"
   ]
  },
  {
   "cell_type": "code",
   "execution_count": null,
   "metadata": {},
   "outputs": [],
   "source": []
  },
  {
   "cell_type": "markdown",
   "metadata": {},
   "source": [
    "## 不定长参数\n",
    "- \\*args\n",
    "> - 不定长，来多少装多少，不装也是可以的\n",
    "  - 返回的数据类型是元组\n",
    "  - args 名字是可以修改的，只是我们约定俗成的是args\n",
    "- \\**kwargs \n",
    "> - 返回的字典\n",
    "  - 输入的一定要是表达式（键值对）\n",
    "- name,\\*args,name2,\\**kwargs  使用参数名"
   ]
  },
  {
   "cell_type": "markdown",
   "metadata": {},
   "source": [
    "## 变量的作用域\n",
    "- 局部变量 local\n",
    "- 全局变量 global\n",
    "- globals 函数返回一个全局变量的字典，包括所有导入的变量\n",
    "- locals() 函数会以字典类型返回当前位置的全部局部变量。"
   ]
  },
  {
   "cell_type": "markdown",
   "metadata": {},
   "source": [
    "## 注意：\n",
    "- global ：在进行赋值操作的时候需要声明\n",
    "- 官方解释：This is because when you make an assignment to a variable in a scope, that variable becomes local to that scope and shadows any similarly named variable in the outer scope.\n",
    "- ![](../Photo/73.png)"
   ]
  },
  {
   "cell_type": "markdown",
   "metadata": {},
   "source": [
    "# Homework\n",
    "- 1\n",
    "![](../Photo/74.png)"
   ]
  },
  {
   "cell_type": "code",
   "execution_count": 34,
   "metadata": {},
   "outputs": [],
   "source": [
    "def getPentagonalNumber():\n",
    "    count = 0\n",
    "    for n in range(1,101):\n",
    "        result = n*(3*n-1)/2\n",
    "        count = count+1\n",
    "        print (int(result),end=' ')\n",
    "        if count%10 == 0:\n",
    "            print('\\n')"
   ]
  },
  {
   "cell_type": "code",
   "execution_count": 35,
   "metadata": {},
   "outputs": [
    {
     "name": "stdout",
     "output_type": "stream",
     "text": [
      "1 5 12 22 35 51 70 92 117 145 \n",
      "\n",
      "176 210 247 287 330 376 425 477 532 590 \n",
      "\n",
      "651 715 782 852 925 1001 1080 1162 1247 1335 \n",
      "\n",
      "1426 1520 1617 1717 1820 1926 2035 2147 2262 2380 \n",
      "\n",
      "2501 2625 2752 2882 3015 3151 3290 3432 3577 3725 \n",
      "\n",
      "3876 4030 4187 4347 4510 4676 4845 5017 5192 5370 \n",
      "\n",
      "5551 5735 5922 6112 6305 6501 6700 6902 7107 7315 \n",
      "\n",
      "7526 7740 7957 8177 8400 8626 8855 9087 9322 9560 \n",
      "\n",
      "9801 10045 10292 10542 10795 11051 11310 11572 11837 12105 \n",
      "\n",
      "12376 12650 12927 13207 13490 13776 14065 14357 14652 14950 \n",
      "\n"
     ]
    }
   ],
   "source": [
    "getPentagonalNumber()"
   ]
  },
  {
   "cell_type": "markdown",
   "metadata": {},
   "source": [
    "- 2\n",
    "![](../Photo/75.png)"
   ]
  },
  {
   "cell_type": "code",
   "execution_count": 36,
   "metadata": {},
   "outputs": [],
   "source": [
    "def sumDigits():\n",
    "    x = eval(input('请输入一个三位数：'))\n",
    "    a = x%10\n",
    "    b = x//10\n",
    "    c = b%10\n",
    "    d = b//10\n",
    "    y = a+c+d\n",
    "    print(y)\n"
   ]
  },
  {
   "cell_type": "code",
   "execution_count": 37,
   "metadata": {},
   "outputs": [
    {
     "name": "stdout",
     "output_type": "stream",
     "text": [
      "请输入一个三位数：234\n",
      "9\n"
     ]
    }
   ],
   "source": [
    "sumDigits()"
   ]
  },
  {
   "cell_type": "markdown",
   "metadata": {},
   "source": [
    "- 3\n",
    "![](../Photo/76.png)"
   ]
  },
  {
   "cell_type": "code",
   "execution_count": 38,
   "metadata": {},
   "outputs": [],
   "source": [
    "def displaySortedNumbers():\n",
    "    a,b,c = eval(input('请输入三个整数'))\n",
    "    if a>=b and a>=c:\n",
    "        if b>=c:\n",
    "            print (str(a)+ '>' +str(b) + '>' + str(c))\n",
    "        else:\n",
    "            print (str(a)+ '>' +str(c) + '>' + str(b))\n",
    "    elif b>=a and b>=c:\n",
    "        if a>=c:\n",
    "            print (str(b)+ '>' +str(a) + '>' + str(c))\n",
    "        else:\n",
    "            print (str(b)+ '>' +str(c) + '>' + str(a))\n",
    "    elif c>=a and c>=b:\n",
    "        if a>=b:\n",
    "            print (str(c)+ '>' +str(a) + '>' + str(b))\n",
    "        else:\n",
    "            print (str(c)+ '>' +str(b) + '>' + str(a))"
   ]
  },
  {
   "cell_type": "code",
   "execution_count": 39,
   "metadata": {},
   "outputs": [
    {
     "name": "stdout",
     "output_type": "stream",
     "text": [
      "请输入三个整数3,2.4,5\n",
      "5>3>2.4\n"
     ]
    }
   ],
   "source": [
    "displaySortedNumbers()"
   ]
  },
  {
   "cell_type": "markdown",
   "metadata": {},
   "source": [
    "- 4\n",
    "![](../Photo/77.png)"
   ]
  },
  {
   "cell_type": "code",
   "execution_count": 6,
   "metadata": {},
   "outputs": [],
   "source": [
    "def futureInvestmentValue(investmentAmount,monthlyInterestRate,years=1):\n",
    "    money=investmentAmount\n",
    "    month=years*12\n",
    "    rate=monthlyInterestRate/12\n",
    "    fmoney=money*((1+rate)**month)\n",
    "    return fmoney"
   ]
  },
  {
   "cell_type": "code",
   "execution_count": 7,
   "metadata": {},
   "outputs": [
    {
     "name": "stdout",
     "output_type": "stream",
     "text": [
      "请输入本金：1000\n",
      "请输入年利率：9\n",
      "\n",
      "\n",
      "Years             Future Value\n",
      "1                   1093.81\n",
      "2                   1196.41\n",
      "3                   1308.65\n",
      "4                   1431.41\n",
      "5                   1565.68\n",
      "6                   1712.55\n",
      "7                   1873.2\n",
      "8                   2048.92\n",
      "9                   2241.12\n",
      "10                   2451.36\n",
      "11                   2681.31\n",
      "12                   2932.84\n",
      "13                   3207.96\n",
      "14                   3508.89\n",
      "15                   3838.04\n",
      "16                   4198.08\n",
      "17                   4591.89\n",
      "18                   5022.64\n",
      "19                   5493.8\n",
      "20                   6009.15\n",
      "21                   6572.85\n",
      "22                   7189.43\n",
      "23                   7863.85\n",
      "24                   8601.53\n",
      "25                   9408.41\n",
      "26                   10290.99\n",
      "27                   11256.35\n",
      "28                   12312.28\n",
      "29                   13467.25\n",
      "30                   14730.58\n"
     ]
    }
   ],
   "source": [
    "money1=eval(input('请输入本金：'))\n",
    "rate1=eval(input('请输入年利率：'))\n",
    "years1=1\n",
    "print('\\n')\n",
    "print('Years             Future Value')\n",
    "while years1 <=30:\n",
    "    futuervalue=futureInvestmentValue(money1,rate1/100,years1)\n",
    "    years1 += 1\n",
    "    print(str(years1-1)+'                   '+str(round(futuervalue,2)))\n"
   ]
  },
  {
   "cell_type": "markdown",
   "metadata": {},
   "source": [
    "- 5\n",
    "![](../Photo/78.png)"
   ]
  },
  {
   "cell_type": "code",
   "execution_count": null,
   "metadata": {},
   "outputs": [],
   "source": []
  },
  {
   "cell_type": "code",
   "execution_count": null,
   "metadata": {},
   "outputs": [],
   "source": []
  },
  {
   "cell_type": "markdown",
   "metadata": {},
   "source": [
    "- 6\n",
    "![](../Photo/79.png)"
   ]
  },
  {
   "cell_type": "code",
   "execution_count": 4,
   "metadata": {},
   "outputs": [],
   "source": [
    "def numberOfDaysInYear():    \n",
    "    for year in range(2010,2021):\n",
    "        if (year % 4 == 0 and year % 100 != 0) or (year % 400 == 0):\n",
    "            print(year,'年有366天')\n",
    "        else:\n",
    "            print(year,'年有365天')"
   ]
  },
  {
   "cell_type": "code",
   "execution_count": 5,
   "metadata": {},
   "outputs": [
    {
     "name": "stdout",
     "output_type": "stream",
     "text": [
      "2010 年有365天\n",
      "2011 年有365天\n",
      "2012 年有366天\n",
      "2013 年有365天\n",
      "2014 年有365天\n",
      "2015 年有365天\n",
      "2016 年有366天\n",
      "2017 年有365天\n",
      "2018 年有365天\n",
      "2019 年有365天\n",
      "2020 年有366天\n"
     ]
    }
   ],
   "source": [
    "numberOfDaysInYear()"
   ]
  },
  {
   "cell_type": "markdown",
   "metadata": {},
   "source": [
    "- 7\n",
    "![](../Photo/80.png)"
   ]
  },
  {
   "cell_type": "code",
   "execution_count": 8,
   "metadata": {},
   "outputs": [],
   "source": [
    "def distance(x1,y1,x2,y2):\n",
    "    a=x1\n",
    "    b=x2\n",
    "    c=y1\n",
    "    d=y2\n",
    "    nums=((a-b)*(a-b) + (c-d)*(c-d))**0.5\n",
    "    return nums"
   ]
  },
  {
   "cell_type": "code",
   "execution_count": 11,
   "metadata": {},
   "outputs": [
    {
     "name": "stdout",
     "output_type": "stream",
     "text": [
      "请输入第一个点的坐标： 2,3\n",
      "请输入第二个点的坐标： 3,2\n",
      "两点之间的距离为： 1.4142135623730951\n"
     ]
    }
   ],
   "source": [
    "X1,Y1=eval(input('请输入第一个点的坐标： '))\n",
    "X2,Y2=eval(input('请输入第二个点的坐标： '))\n",
    "length=distance(X1,Y1,X2,Y2)\n",
    "print('两点之间的距离为： '+str(length))"
   ]
  },
  {
   "cell_type": "markdown",
   "metadata": {},
   "source": [
    "- 8\n",
    "![](../Photo/81.png)"
   ]
  },
  {
   "cell_type": "code",
   "execution_count": 2,
   "metadata": {},
   "outputs": [],
   "source": [
    "def meisen(p):\n",
    "    number = 2**p-1\n",
    "    return number"
   ]
  },
  {
   "cell_type": "code",
   "execution_count": 3,
   "metadata": {},
   "outputs": [
    {
     "name": "stdout",
     "output_type": "stream",
     "text": [
      "p            2^p-1\n",
      "2             3\n",
      "3             7\n",
      "5             31\n",
      "7             127\n",
      "11             2047\n",
      "13             8191\n",
      "17             131071\n",
      "19             524287\n",
      "23             8388607\n",
      "29             536870911\n",
      "31             2147483647\n"
     ]
    }
   ],
   "source": [
    "\n",
    "print('p            2^p-1')\n",
    "for i in range(2,32):\n",
    "    for j in range(2,i):\n",
    "        if i % j ==0:\n",
    "            break\n",
    "    else:\n",
    "        numbers=meisen(i)\n",
    "        print(str(i)+'             '+str(numbers))"
   ]
  },
  {
   "cell_type": "markdown",
   "metadata": {},
   "source": [
    "- 9\n",
    "![](../Photo/82.png)\n",
    "![](../Photo/83.png)"
   ]
  },
  {
   "cell_type": "markdown",
   "metadata": {},
   "source": [
    "- 10\n",
    "![](../Photo/84.png)"
   ]
  },
  {
   "cell_type": "markdown",
   "metadata": {},
   "source": [
    "- 11 \n",
    "### 去网上寻找如何用Python代码发送邮件"
   ]
  }
 ],
 "metadata": {
  "kernelspec": {
   "display_name": "Python 3",
   "language": "python",
   "name": "python3"
  },
  "language_info": {
   "codemirror_mode": {
    "name": "ipython",
    "version": 3
   },
   "file_extension": ".py",
   "mimetype": "text/x-python",
   "name": "python",
   "nbconvert_exporter": "python",
   "pygments_lexer": "ipython3",
   "version": "3.6.4"
  }
 },
 "nbformat": 4,
 "nbformat_minor": 2
}
