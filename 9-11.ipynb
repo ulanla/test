{
 "cells": [
  {
   "cell_type": "markdown",
   "metadata": {},
   "source": [
    "# 数学函数、字符串和对象\n",
    "## 本章介绍Python函数来执行常见的数学运算\n",
    "- 函数是完成一个特殊任务的一组语句，可以理解为一个函数相当于一个小功能，但是在开发中，需要注意一个函数的长度最好不要超过一屏\n",
    "- Python中的内置函数是不需要Import导入的\n",
    "<img src=\"../Photo/15.png\"></img>"
   ]
  },
  {
   "cell_type": "code",
   "execution_count": 50,
   "metadata": {},
   "outputs": [
    {
     "name": "stdout",
     "output_type": "stream",
     "text": [
      "输入三个数字以,分隔1,2,3\n",
      "max,min,pow2_summax\n",
      "3\n"
     ]
    }
   ],
   "source": [
    "a,b,c = eval(input('输入三个数字以,分隔'))\n",
    "choose_method=input('max,min,pow2_sum')\n",
    "if choose_method == 'max':\n",
    "    max_=max(a,b,c)\n",
    "    print(max_)\n",
    "elif choose_method == 'min':\n",
    "           min_ = min(a,b,c)\n",
    "           print(min_)\n",
    "elif choose_method == 'pow2_sum':\n",
    "           pow2_sum = pow(a,2) + pow(b,2) + pow(c,2)\n",
    "           print(pow2_sum)"
   ]
  },
  {
   "cell_type": "markdown",
   "metadata": {},
   "source": [
    "## 尝试练习Python内置函数"
   ]
  },
  {
   "cell_type": "markdown",
   "metadata": {},
   "source": [
    "## Python中的math模块提供了许多数学函数\n",
    "<img src=\"../Photo/16.png\"></img>\n",
    "<img src=\"../Photo/17.png\"></img>\n"
   ]
  },
  {
   "cell_type": "code",
   "execution_count": 51,
   "metadata": {},
   "outputs": [
    {
     "data": {
      "text/plain": [
       "7.38905609893065"
      ]
     },
     "execution_count": 51,
     "metadata": {},
     "output_type": "execute_result"
    }
   ],
   "source": [
    "import math\n",
    "math.exp(2)"
   ]
  },
  {
   "cell_type": "markdown",
   "metadata": {},
   "source": [
    "## 两个数学常量PI和e，可以通过使用math.pi 和math.e调用"
   ]
  },
  {
   "cell_type": "markdown",
   "metadata": {},
   "source": [
    "## EP:\n",
    "- 通过math库，写一个程序，使得用户输入三个顶点(x,y)返回三个角度\n",
    "- 注意：Python计算角度为弧度制，需要将其转换为角度\n",
    "<img src=\"../Photo/18.png\">"
   ]
  },
  {
   "cell_type": "code",
   "execution_count": 54,
   "metadata": {},
   "outputs": [
    {
     "name": "stdout",
     "output_type": "stream",
     "text": [
      ">>0,0,0,1,1,0\n",
      "90.00000000000001 44.999999999999986 44.999999999999986\n"
     ]
    }
   ],
   "source": [
    "x1,y1,x2,y2,x3,y3 = eval(input('>>'))\n",
    "a=math.sqrt((x2 - x3) ** 2 + (y2 - y3) ** 2)\n",
    "b=math.sqrt((x3 - x1) ** 2 + (y3 - y1) ** 2)\n",
    "c=math.sqrt((x2 - x1) ** 2 + (y2 - y1) ** 2)\n",
    "A=math.acos((a * a - b * b - c * c) / (-2 * b * c))\n",
    "B=math.acos((b * b - a * a - c * c) / (-2 * a * c))\n",
    "C=math.acos((c * c - b * b - a * a) / (-2 * a * b))\n",
    "print(math.degrees(A),math.degrees(B),math.degrees(C))"
   ]
  },
  {
   "cell_type": "markdown",
   "metadata": {},
   "source": [
    "## 字符串和字符\n",
    "- 在Python中，字符串必须是在单引号或者双引号内，在多段换行的字符串中可以使用“”“\n",
    "- 在使用”“”时，给予其变量则变为字符串，否则当多行注释使用"
   ]
  },
  {
   "cell_type": "markdown",
   "metadata": {},
   "source": [
    "## ASCII码与Unicode码\n",
    "- <img src=\"../Photo/19.png\"></img>\n",
    "- <img src=\"../Photo/20.png\"></img>\n",
    "- <img src=\"../Photo/21.png\"></img>"
   ]
  },
  {
   "cell_type": "code",
   "execution_count": 55,
   "metadata": {},
   "outputs": [
    {
     "name": "stdout",
     "output_type": "stream",
     "text": [
      "MD5加密前为:this is a md5 test\n",
      "MD5加密后为:2accb8ae19138b5de45a0e71e1ac3482\n"
     ]
    }
   ],
   "source": [
    "import hashlib\n",
    "str_ = 'this is a md5 test'\n",
    "h1 = hashlib.md5()\n",
    "h1.update(str_.encode(encoding='utf-8'))\n",
    "print('MD5加密前为:'+str_)\n",
    "print('MD5加密后为:'+h1.hexdigest())"
   ]
  },
  {
   "cell_type": "code",
   "execution_count": 56,
   "metadata": {},
   "outputs": [
    {
     "name": "stdout",
     "output_type": "stream",
     "text": [
      ">>123\n",
      "Faild\n"
     ]
    }
   ],
   "source": [
    "import hashlib\n",
    "dataset = 'd41d8cd98f00b204e9800998ecf8427e'\n",
    "password = input('>>')\n",
    "h1 = hashlib.md5()\n",
    "h1.update(str_.encode(encoding='utf-8'))\n",
    "if dataset == h1.hexdigest():\n",
    "    print('Success')\n",
    "else:\n",
    "    print('Faild')"
   ]
  },
  {
   "cell_type": "markdown",
   "metadata": {},
   "source": [
    "## 函数ord、chr\n",
    "- ord 返回ASCII码值\n",
    "- chr 返回字符"
   ]
  },
  {
   "cell_type": "markdown",
   "metadata": {},
   "source": [
    "## EP:\n",
    "- 利用ord与chr进行简单邮箱加密"
   ]
  },
  {
   "cell_type": "markdown",
   "metadata": {},
   "source": [
    "## 转义序列 \\\n",
    "- a = \"He said,\"Johon's program is easy to read\"\n",
    "- 转掉它原来的意思\n",
    "- 一般情况下只有当语句与默认方法相撞的时候，就需要转义"
   ]
  },
  {
   "cell_type": "markdown",
   "metadata": {},
   "source": [
    "## 高级print\n",
    "- 参数 end： 以什么方式结束打印\n",
    "- 默认换行打印"
   ]
  },
  {
   "cell_type": "markdown",
   "metadata": {},
   "source": [
    "## 函数str\n",
    "- 将类型强制转换成字符串类型\n",
    "- 其他一些以后会学到(list,set,tuple...)"
   ]
  },
  {
   "cell_type": "markdown",
   "metadata": {},
   "source": [
    "## 字符串连接操作\n",
    "- 直接使用 “+” \n",
    "- join() 函数 "
   ]
  },
  {
   "cell_type": "markdown",
   "metadata": {},
   "source": [
    "## EP：\n",
    "- 将 “Welcome” “to” \"Python\" 拼接\n",
    "- 将int型 100 与 “joker is a bad man” 拼接\n",
    "- 从控制台读取字符串\n",
    "> 输入一个名字返回夸奖此人"
   ]
  },
  {
   "cell_type": "code",
   "execution_count": 57,
   "metadata": {},
   "outputs": [
    {
     "data": {
      "text/plain": [
       "'WelcometoPython'"
      ]
     },
     "execution_count": 57,
     "metadata": {},
     "output_type": "execute_result"
    }
   ],
   "source": [
    "'Welcome'+ 'to'+ \"Python\""
   ]
  },
  {
   "cell_type": "markdown",
   "metadata": {},
   "source": [
    "## 实例研究：最小数量硬币\n",
    "- 开发一个程序，让用户输入总金额，这是一个用美元和美分表示的浮点值，返回一个由美元、两角五分的硬币、一角的硬币、五分硬币、以及美分个数\n",
    "<img src=\"../Photo/22.png\"></img>"
   ]
  },
  {
   "cell_type": "markdown",
   "metadata": {},
   "source": [
    "- Python弱项，对于浮点型的处理并不是很好，但是处理数据的时候使用的是Numpy类型\n",
    "<img src=\"../Photo/23.png\"></img>"
   ]
  },
  {
   "cell_type": "markdown",
   "metadata": {},
   "source": [
    "## id与type\n",
    "- id 查看内存地址，在判断语句中将会使用\n",
    "- type 查看元素类型"
   ]
  },
  {
   "cell_type": "markdown",
   "metadata": {},
   "source": [
    "## 其他格式化语句见书"
   ]
  },
  {
   "cell_type": "markdown",
   "metadata": {},
   "source": [
    "# Homework\n",
    "- 1\n",
    "<img src=\"../Photo/24.png\"><img>\n",
    "<img src=\"../Photo/25.png\"><img>"
   ]
  },
  {
   "cell_type": "code",
   "execution_count": 6,
   "metadata": {},
   "outputs": [
    {
     "name": "stdout",
     "output_type": "stream",
     "text": [
      "请输入五边形顶点到中心的距离5.5\n",
      "五边形的面积为：71.92\n"
     ]
    }
   ],
   "source": [
    "r = eval(input('请输入五边形顶点到中心的距离'))\n",
    "pi = 3.1415926\n",
    "s = 2 * r * math.sin(pi/5)\n",
    "area = 5 * s * s / (4 * math.tan(pi/5))\n",
    "print ('五边形的面积为：' + str(round (area,2)))"
   ]
  },
  {
   "cell_type": "markdown",
   "metadata": {},
   "source": [
    "- 2\n",
    "<img src=\"../Photo/26.png\"><img>"
   ]
  },
  {
   "cell_type": "code",
   "execution_count": 46,
   "metadata": {},
   "outputs": [
    {
     "name": "stdout",
     "output_type": "stream",
     "text": [
      "请输入经度数和纬度数39.55,-116.25,41.5,87.37\n",
      "距离是：10691.79183231593 km\n"
     ]
    }
   ],
   "source": [
    "x1,y1,x2,y2 = eval(input('请输入经度数和纬度数'))\n",
    "r = 6371.01\n",
    "d = r* math.acos(math.sin(math.radians(x1))*math.sin(math.radians(x2))+math.cos(math.radians(x1))*math.cos(math.radians(x2))*math.cos(math.radians(y1-y2)))\n",
    "print ('距离是：' + str(d) + ' km')"
   ]
  },
  {
   "cell_type": "markdown",
   "metadata": {},
   "source": [
    "- 3\n",
    "<img src=\"../Photo/27.png\"><img>"
   ]
  },
  {
   "cell_type": "code",
   "execution_count": 36,
   "metadata": {},
   "outputs": [
    {
     "name": "stdout",
     "output_type": "stream",
     "text": [
      "请输入五角形的边长5.5\n",
      "五角形的面积是：52.04444254084891\n"
     ]
    }
   ],
   "source": [
    "long = eval(input('请输入五角形的边长'))\n",
    "pi = 3.1415926\n",
    "area = (5 * long**2) / (4 * math.tan(pi / 5))\n",
    "print ('五角形的面积是：' + str(area))"
   ]
  },
  {
   "cell_type": "markdown",
   "metadata": {},
   "source": [
    "- 4\n",
    "<img src=\"../Photo/28.png\"><img>"
   ]
  },
  {
   "cell_type": "code",
   "execution_count": 35,
   "metadata": {},
   "outputs": [
    {
     "name": "stdout",
     "output_type": "stream",
     "text": [
      "请输入边数及正多边形的边长5,6.5\n",
      "正多边形的面积是： 72.69017017488385\n"
     ]
    }
   ],
   "source": [
    "n,s = eval(input('请输入边数及正多边形的边长'))\n",
    "area = (n * s**2) / (4 * math.tan(math.pi / n))\n",
    "print ('正多边形的面积是： ' +str(area))"
   ]
  },
  {
   "cell_type": "markdown",
   "metadata": {},
   "source": [
    "- 5\n",
    "<img src=\"../Photo/29.png\"><img>\n",
    "<img src=\"../Photo/30.png\"><img>"
   ]
  },
  {
   "cell_type": "code",
   "execution_count": 94,
   "metadata": {},
   "outputs": [
    {
     "name": "stdout",
     "output_type": "stream",
     "text": [
      "请输入一个0到127之间的数69\n",
      "E\n"
     ]
    }
   ],
   "source": [
    "char = eval(input('请输入一个0到127之间的数'))\n",
    "a = chr (char)\n",
    "print (a)"
   ]
  },
  {
   "cell_type": "markdown",
   "metadata": {},
   "source": [
    "- 6\n",
    "<img src=\"../Photo/31.png\"><img>"
   ]
  },
  {
   "cell_type": "code",
   "execution_count": 41,
   "metadata": {},
   "outputs": [
    {
     "name": "stdout",
     "output_type": "stream",
     "text": [
      "请输入雇员姓名mike\n",
      "请输入一周工作时间10.0\n",
      "请输入每小时报酬9.75\n",
      "请输入联邦预扣税率0.2\n",
      "请输入州预扣税率0.09\n",
      "雇员姓名：mike\n",
      "一周工作时间：10.0\n",
      "每小时报酬：9.75\n",
      "支付工资：97.5\n",
      "支付联邦预扣税率：19.5\n",
      "支付州预扣税率：8.775\n",
      "支付总扣税率：0.29000000000000004\n",
      "最后所得工资：69.225\n"
     ]
    }
   ],
   "source": [
    "name = str(input('请输入雇员姓名'))\n",
    "time = eval(input('请输入一周工作时间'))\n",
    "money = eval(input('请输入每小时报酬'))\n",
    "lrate = eval(input('请输入联邦预扣税率'))\n",
    "zrate = eval(input('请输入州预扣税率'))\n",
    "sum = time * money\n",
    "lr = sum * lrate\n",
    "zr = sum * zrate\n",
    "sr = lrate + zrate\n",
    "pay = sum - (lr + zr)\n",
    "print ('雇员姓名：' +(name))\n",
    "print ('一周工作时间：' +str(time))\n",
    "print ('每小时报酬：' +str(money))\n",
    "print ('支付工资：' +str(sum))\n",
    "print ('支付联邦预扣税率：' +str(lr))\n",
    "print ('支付州预扣税率：' +str(zr))\n",
    "print ('支付总扣税率：' +str(sr))\n",
    "print ('最后所得工资：' +str(pay))"
   ]
  },
  {
   "cell_type": "markdown",
   "metadata": {},
   "source": [
    "\n",
    "<img src=\"../Photo/32.png\"><img>"
   ]
  },
  {
   "cell_type": "code",
   "execution_count": 85,
   "metadata": {},
   "outputs": [
    {
     "name": "stdout",
     "output_type": "stream",
     "text": [
      "请输入一个四位数1234\n",
      "4321\n"
     ]
    }
   ],
   "source": [
    "number = eval(input('请输入一个四位数'))\n",
    "a = number % 10\n",
    "b = number // 10\n",
    "a1 = b % 10\n",
    "a2 = b // 10\n",
    "c = a2 % 10\n",
    "d = a2 // 10\n",
    "e = d % 10\n",
    "print (str(a)+str(a1)+str(c)+str(e))"
   ]
  },
  {
   "cell_type": "markdown",
   "metadata": {},
   "source": [
    "- 8 进阶：\n",
    "> 加密一串文本，并将解密后的文件写入本地保存"
   ]
  },
  {
   "cell_type": "code",
   "execution_count": 92,
   "metadata": {},
   "outputs": [
    {
     "name": "stdout",
     "output_type": "stream",
     "text": [
      "MD5加密后为 ：20d430eec21d065363b4e7441e8bcf01\n",
      "MD5加密前为 ：my name is wulan\n"
     ]
    },
    {
     "data": {
      "text/plain": [
       "16"
      ]
     },
     "execution_count": 92,
     "metadata": {},
     "output_type": "execute_result"
    }
   ],
   "source": [
    "import hashlib\n",
    "text = 'my name is wulan'\n",
    "hl = hashlib.md5()\n",
    "hl.update(text.encode(encoding='utf-8'))\n",
    "print('MD5加密后为 ：' + hl.hexdigest())\n",
    "print('MD5加密前为 ：' + text)\n",
    "f=open(\"p.log\",\"w\") \n",
    "f.write(text)"
   ]
  },
  {
   "cell_type": "code",
   "execution_count": null,
   "metadata": {},
   "outputs": [],
   "source": []
  }
 ],
 "metadata": {
  "kernelspec": {
   "display_name": "Python 3",
   "language": "python",
   "name": "python3"
  },
  "language_info": {
   "codemirror_mode": {
    "name": "ipython",
    "version": 3
   },
   "file_extension": ".py",
   "mimetype": "text/x-python",
   "name": "python",
   "nbconvert_exporter": "python",
   "pygments_lexer": "ipython3",
   "version": "3.6.4"
  }
 },
 "nbformat": 4,
 "nbformat_minor": 2
}
